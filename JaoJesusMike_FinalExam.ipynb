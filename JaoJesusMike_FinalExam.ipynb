{
  "nbformat": 4,
  "nbformat_minor": 0,
  "metadata": {
    "colab": {
      "name": "JaoJesusMike_FinalExam.ipynb",
      "provenance": [],
      "authorship_tag": "ABX9TyNoOEZj/1ukJ7uQ1EI3D92+",
      "include_colab_link": true
    },
    "kernelspec": {
      "name": "python3",
      "display_name": "Python 3"
    },
    "language_info": {
      "name": "python"
    }
  },
  "cells": [
    {
      "cell_type": "markdown",
      "metadata": {
        "id": "view-in-github",
        "colab_type": "text"
      },
      "source": [
        "<a href=\"https://colab.research.google.com/github/JesusMike/OOP-58002/blob/main/JaoJesusMike_FinalExam.ipynb\" target=\"_parent\"><img src=\"https://colab.research.google.com/assets/colab-badge.svg\" alt=\"Open In Colab\"/></a>"
      ]
    },
    {
      "cell_type": "code",
      "execution_count": null,
      "metadata": {
        "id": "Hy147oE5uPSY"
      },
      "outputs": [],
      "source": [
        "from tkinter import *\n",
        "window = Tk()\n",
        "window.title(\"Find the largest number\")\n",
        "window.geometry(\"400x300+20+100\")\n",
        "def findLargest():\n",
        "    L = []\n",
        "    L.append(eval(conOfent2.get()))\n",
        "    L.append(eval(conOfent3.get()))\n",
        "    L.append(eval(conOfent4.get()))\n",
        "    conOfLargest.set(min(L))\n",
        "\n",
        "lbl1 = Label(window, text = \"The Program that Finds the least number among three numbers\")\n",
        "lbl1.grid(row=0, column=1, columnspan=2,sticky=EW)\n",
        "lbl2 = Label(window,text = \"Enter the first number:\")\n",
        "lbl2.grid(row=1, column = 0,sticky=W)\n",
        "conOfent2 = StringVar()\n",
        "ent2 = Entry(window,bd=3,textvariable=conOfent2)\n",
        "ent2.grid(row=1, column = 1)\n",
        "lbl3 = Label(window,text = \"Enter the second number:\")\n",
        "lbl3.grid(row=2, column=0)\n",
        "conOfent3=StringVar()\n",
        "ent3 = Entry(window,bd=3,textvariable=conOfent3)\n",
        "ent3.grid(row=2,column=1)\n",
        "lbl4 = Label(window,text=\"Enter the third number:\")\n",
        "lbl4.grid(row=3,column =0, sticky=W)\n",
        "conOfent4 = StringVar()\n",
        "ent4 = Entry(window,bd=3,textvariable=conOfent4)\n",
        "ent4.grid(row=3, column=1)\n",
        "btn1 = Button(window,text = \"Find the largest no.\",command=findLargest)\n",
        "btn1.grid(row=4, column = 1)\n",
        "lbl5 = Label(window,text=\"The largest number:\")\n",
        "lbl5.grid(row=5,column=0,sticky=W)\n",
        "conOfLargest = StringVar()\n",
        "ent5 = Entry(window,bd=3,state=\"readonly\",textvariable=conOfLargest)\n",
        "ent5.grid(row=5,column=1)\n",
        "\n",
        "mainloop()"
      ]
    }
  ]
}