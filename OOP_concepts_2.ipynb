{
  "nbformat": 4,
  "nbformat_minor": 0,
  "metadata": {
    "colab": {
      "name": "OOP concepts 2.ipynb",
      "provenance": [],
      "authorship_tag": "ABX9TyNZBrnBqBYSTwiN4WdspQQn",
      "include_colab_link": true
    },
    "kernelspec": {
      "name": "python3",
      "display_name": "Python 3"
    },
    "language_info": {
      "name": "python"
    }
  },
  "cells": [
    {
      "cell_type": "markdown",
      "metadata": {
        "id": "view-in-github",
        "colab_type": "text"
      },
      "source": [
        "<a href=\"https://colab.research.google.com/github/JesusMike/OOP-58002/blob/main/OOP_concepts_2.ipynb\" target=\"_parent\"><img src=\"https://colab.research.google.com/assets/colab-badge.svg\" alt=\"Open In Colab\"/></a>"
      ]
    },
    {
      "cell_type": "code",
      "execution_count": 6,
      "metadata": {
        "colab": {
          "base_uri": "https://localhost:8080/"
        },
        "id": "pCY1WmgihwPg",
        "outputId": "63929e8f-2de1-4a8d-9c58-ca4065cd98b5"
      },
      "outputs": [
        {
          "output_type": "stream",
          "name": "stdout",
          "text": [
            "Which Student's Grades you wish to view: 2\n",
            "You are Robert Downey Jr. With a Semestral Grade of 92.9\n"
          ]
        }
      ],
      "source": [
        "class Person:\n",
        "  def __init__(self, name, pre, mid, fin):\n",
        "    self._name = name\n",
        "    self._pre = pre\n",
        "    self._mid = mid\n",
        "    self._fin = fin\n",
        "  def Grades(self):\n",
        "     return print(\"You are\", self._name, \"With a Semestral Grade of\", self._pre*.30 + self._mid*.30 + self._fin*.40)\n",
        "\n",
        "\n",
        "std1 = Person(\"Chris Evans\", 81, 89, 85) \n",
        "\n",
        "std2 = Person(\"Robert Downey Jr.\", 93, 90, 95)\n",
        "\n",
        "std3 = Person(\"Tom Holland\", 80, 91, 76)\n",
        "\n",
        "x = input(str(\"Which Student's Grades you wish to view: \"))\n",
        "\n",
        "if x == \"1\":\n",
        "  std1.Grades()\n",
        "else:\n",
        "  if x == \"2\":\n",
        "    std2.Grades()\n",
        "  else:\n",
        "    if x == \"3\":\n",
        "      std3.Grades()\n",
        "    else:\n",
        "      print(\"Invalid Student\")"
      ]
    }
  ]
}